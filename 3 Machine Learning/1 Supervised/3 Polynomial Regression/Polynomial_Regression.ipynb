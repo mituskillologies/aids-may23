{
 "cells": [
  {
   "cell_type": "code",
   "execution_count": 1,
   "id": "c68feaa3",
   "metadata": {},
   "outputs": [],
   "source": [
    "# Dataset: Salary_Data.csv\n",
    "# Location: https://mitu.co.in/dataset"
   ]
  },
  {
   "cell_type": "markdown",
   "id": "ebcbb5c4",
   "metadata": {},
   "source": [
    "#### Linear Regression"
   ]
  },
  {
   "cell_type": "code",
   "execution_count": 3,
   "id": "c725ca0b",
   "metadata": {},
   "outputs": [],
   "source": [
    "import pandas as pd\n",
    "import matplotlib.pyplot as plt"
   ]
  },
  {
   "cell_type": "code",
   "execution_count": 4,
   "id": "166d13f7",
   "metadata": {},
   "outputs": [],
   "source": [
    "df = pd.read_csv('Salary_Data.csv')"
   ]
  },
  {
   "cell_type": "code",
   "execution_count": 5,
   "id": "056e5ac3",
   "metadata": {},
   "outputs": [
    {
     "name": "stdout",
     "output_type": "stream",
     "text": [
      "Accuracy: 0.9569566641435086\n"
     ]
    }
   ],
   "source": [
    "x = df['YearsExperience'].values\n",
    "x = x.reshape(30,1)\n",
    "y = df['Salary']\n",
    "\n",
    "from sklearn.linear_model import LinearRegression\n",
    "reg = LinearRegression()\n",
    "reg.fit(x, y)\n",
    "print('Accuracy:', reg.score(x,y))"
   ]
  },
  {
   "cell_type": "markdown",
   "id": "62de8dad",
   "metadata": {},
   "source": [
    "#### Polynomial Regression"
   ]
  },
  {
   "cell_type": "code",
   "execution_count": 8,
   "id": "c34f9260",
   "metadata": {},
   "outputs": [],
   "source": [
    "from sklearn.preprocessing import PolynomialFeatures"
   ]
  },
  {
   "cell_type": "code",
   "execution_count": 36,
   "id": "ae00c9cc",
   "metadata": {},
   "outputs": [],
   "source": [
    "poly = PolynomialFeatures(degree=12)"
   ]
  },
  {
   "cell_type": "code",
   "execution_count": 37,
   "id": "803f539f",
   "metadata": {},
   "outputs": [],
   "source": [
    "x_poly = poly.fit_transform(x)"
   ]
  },
  {
   "cell_type": "code",
   "execution_count": 38,
   "id": "a285b1bc",
   "metadata": {},
   "outputs": [],
   "source": [
    "x_poly;"
   ]
  },
  {
   "cell_type": "code",
   "execution_count": 39,
   "id": "138e201a",
   "metadata": {},
   "outputs": [
    {
     "name": "stdout",
     "output_type": "stream",
     "text": [
      "Accuracy: 0.9830191304391646\n"
     ]
    }
   ],
   "source": [
    "reg.fit(x_poly, y)\n",
    "print('Accuracy:', reg.score(x_poly,y))\n",
    "\n",
    "# 13: 0.9830202796983353\n",
    "# 12: 0.9830191304391646"
   ]
  },
  {
   "cell_type": "markdown",
   "id": "891bdd21",
   "metadata": {},
   "source": [
    "#### Visualize the plot"
   ]
  },
  {
   "cell_type": "code",
   "execution_count": 35,
   "id": "b457b07a",
   "metadata": {},
   "outputs": [
    {
     "data": {
      "text/plain": [
       "[<matplotlib.lines.Line2D at 0x7fb2a953c970>]"
      ]
     },
     "execution_count": 35,
     "metadata": {},
     "output_type": "execute_result"
    },
    {
     "data": {
      "image/png": "[encoded data removed]",
      "text/plain": [
       "<Figure size 432x288 with 1 Axes>"
      ]
     },
     "metadata": {
      "needs_background": "light"
     },
     "output_type": "display_data"
    }
   ],
   "source": [
    "plt.xlabel('Experience')\n",
    "plt.ylabel('Salary')\n",
    "plt.scatter(x, y, color='red')\n",
    "plt.plot(x, reg.predict(x_poly), color='g')"
   ]
  },
  {
   "cell_type": "code",
   "execution_count": null,
   "id": "adb7e341",
   "metadata": {},
   "outputs": [],
   "source": []
  }
 ],
 "metadata": {
  "kernelspec": {
   "display_name": "Python 3",
   "language": "python",
   "name": "python3"
  },
  "language_info": {
   "codemirror_mode": {
    "name": "ipython",
    "version": 3
   },
   "file_extension": ".py",
   "mimetype": "text/x-python",
   "name": "python",
   "nbconvert_exporter": "python",
   "pygments_lexer": "ipython3",
   "version": "3.8.10"
  }
 },
 "nbformat": 4,
 "nbformat_minor": 5
}
