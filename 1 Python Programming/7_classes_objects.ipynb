{
 "cells": [
  {
   "cell_type": "code",
   "execution_count": 11,
   "metadata": {},
   "outputs": [
    {
     "name": "stdout",
     "output_type": "stream",
     "text": [
      "Name: Ajay\n",
      "Age : 34\n",
      "Ajay\n"
     ]
    }
   ],
   "source": [
    "# Create a class\n",
    "class Person:                        # class name\n",
    "    def __init__(self, n, a=20):     # constructor\n",
    "        self.name = n                # instance variables\n",
    "        self.age = a\n",
    "    def show(self):                  # method\n",
    "        print('Name:', self.name)\n",
    "        print('Age :', self.age)\n",
    "        \n",
    "# create the object\n",
    "p1 = Person('Ajay', 34)  \n",
    "\n",
    "# call the method\n",
    "p1.show()\n",
    "\n",
    "# access the variables of object\n",
    "print(p1.name)\n",
    "p2 = Person('Vijay')"
   ]
  },
  {
   "cell_type": "code",
   "execution_count": 12,
   "metadata": {},
   "outputs": [
    {
     "name": "stdout",
     "output_type": "stream",
     "text": [
      "Name: Vijay\n",
      "Age : 20\n"
     ]
    }
   ],
   "source": [
    "p2.show()"
   ]
  },
  {
   "cell_type": "code",
   "execution_count": 9,
   "metadata": {},
   "outputs": [
    {
     "name": "stdout",
     "output_type": "stream",
     "text": [
      "Name: Vimal\n",
      "Age : 56\n"
     ]
    }
   ],
   "source": [
    "p2.name = 'Vimal'\n",
    "p2.show()"
   ]
  },
  {
   "cell_type": "code",
   "execution_count": null,
   "metadata": {},
   "outputs": [],
   "source": []
  }
 ],
 "metadata": {
  "kernelspec": {
   "display_name": "Python 3",
   "language": "python",
   "name": "python3"
  },
  "language_info": {
   "codemirror_mode": {
    "name": "ipython",
    "version": 3
   },
   "file_extension": ".py",
   "mimetype": "text/x-python",
   "name": "python",
   "nbconvert_exporter": "python",
   "pygments_lexer": "ipython3",
   "version": "3.8.10"
  }
 },
 "nbformat": 4,
 "nbformat_minor": 4
}
