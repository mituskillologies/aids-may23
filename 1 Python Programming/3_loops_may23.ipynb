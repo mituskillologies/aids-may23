{
 "cells": [
  {
   "cell_type": "markdown",
   "id": "fb3b03c0",
   "metadata": {},
   "source": [
    "### while loop"
   ]
  },
  {
   "cell_type": "code",
   "execution_count": 5,
   "id": "be67b363",
   "metadata": {},
   "outputs": [
    {
     "name": "stdout",
     "output_type": "stream",
     "text": [
      "Tushar Tushar Tushar Tushar Tushar Tushar Tushar Tushar Tushar Tushar Good Bye!\n"
     ]
    }
   ],
   "source": [
    "# Print name for 10 times\n",
    "count = 0\n",
    "while count < 10:\n",
    "    print('Tushar', end=' ')\n",
    "    count += 1\n",
    "\n",
    "print('Good Bye!')"
   ]
  },
  {
   "cell_type": "code",
   "execution_count": 6,
   "id": "a9f096c8",
   "metadata": {},
   "outputs": [
    {
     "name": "stdout",
     "output_type": "stream",
     "text": [
      "1\n",
      "2\n",
      "3\n",
      "4\n",
      "5\n",
      "Good Bye!\n"
     ]
    }
   ],
   "source": [
    "# Print the numbers from 1 to 5\n",
    "count = 1\n",
    "while count <= 5:\n",
    "    print(count)\n",
    "    count += 1\n",
    "\n",
    "print('Good Bye!')"
   ]
  },
  {
   "cell_type": "code",
   "execution_count": 7,
   "id": "83adf5b2",
   "metadata": {},
   "outputs": [
    {
     "data": {
      "text/plain": [
       "6"
      ]
     },
     "execution_count": 7,
     "metadata": {},
     "output_type": "execute_result"
    }
   ],
   "source": [
    "count"
   ]
  },
  {
   "cell_type": "code",
   "execution_count": 8,
   "id": "735b9c1b",
   "metadata": {},
   "outputs": [
    {
     "name": "stdout",
     "output_type": "stream",
     "text": [
      "Addition:  55\n"
     ]
    }
   ],
   "source": [
    "# Find the addition of numbers from 1 to 10\n",
    "\n",
    "add = 0\n",
    "num = 1\n",
    "while num <= 10:\n",
    "    add = add + num\n",
    "    num += 1\n",
    "\n",
    "print('Addition: ', add)"
   ]
  },
  {
   "cell_type": "code",
   "execution_count": 9,
   "id": "95d6ec96",
   "metadata": {},
   "outputs": [
    {
     "name": "stdout",
     "output_type": "stream",
     "text": [
      "Addition:  100\n"
     ]
    }
   ],
   "source": [
    "# Find the addition of odd numbers from 1 to 20\n",
    "\n",
    "add = 0\n",
    "num = 1\n",
    "while num <= 20:\n",
    "    add = add + num\n",
    "    num += 2\n",
    "\n",
    "print('Addition: ', add)"
   ]
  },
  {
   "cell_type": "code",
   "execution_count": 10,
   "id": "48477ab7",
   "metadata": {},
   "outputs": [
    {
     "name": "stdout",
     "output_type": "stream",
     "text": [
      "Factorial is: 120\n"
     ]
    }
   ],
   "source": [
    "# Factorial of number\n",
    "\n",
    "# Factorial of 5 = 5 * 4 * 3 * 2 * 1 = 120\n",
    "\n",
    "num = 5\n",
    "fact = 1\n",
    "while num > 1:\n",
    "    fact = fact * num\n",
    "    num -= 1\n",
    "    \n",
    "print('Factorial is:', fact)"
   ]
  },
  {
   "cell_type": "code",
   "execution_count": 11,
   "id": "0bd8d883",
   "metadata": {},
   "outputs": [
    {
     "name": "stdout",
     "output_type": "stream",
     "text": [
      "Enter the number: 7\n",
      "Factorial is: 5040\n"
     ]
    }
   ],
   "source": [
    "# Factorial of number\n",
    "\n",
    "# Factorial of 5 = 5 * 4 * 3 * 2 * 1 = 120\n",
    "\n",
    "num = int(input('Enter the number: '))\n",
    "fact = 1\n",
    "while num > 1:\n",
    "    fact = fact * num\n",
    "    num -= 1\n",
    "    \n",
    "print('Factorial is:', fact)"
   ]
  },
  {
   "cell_type": "markdown",
   "id": "31b73e15",
   "metadata": {},
   "source": [
    "#### else"
   ]
  },
  {
   "cell_type": "code",
   "execution_count": 13,
   "id": "ace729e4",
   "metadata": {},
   "outputs": [
    {
     "name": "stdout",
     "output_type": "stream",
     "text": [
      "Addition:  55\n"
     ]
    }
   ],
   "source": [
    "# Find the addition of numbers from 1 to 10\n",
    "\n",
    "add = 0\n",
    "num = 1\n",
    "while num <= 10:\n",
    "    add = add + num\n",
    "    num += 1\n",
    "else:\n",
    "    print('Addition: ', add)"
   ]
  },
  {
   "cell_type": "markdown",
   "id": "c0db726f",
   "metadata": {},
   "source": [
    "#### infinite loop"
   ]
  },
  {
   "cell_type": "code",
   "execution_count": null,
   "id": "76fe0aeb",
   "metadata": {},
   "outputs": [],
   "source": [
    "num = 10\n",
    "while num > 0:\n",
    "    print(num)\n",
    "    num += 1\n",
    "    "
   ]
  },
  {
   "cell_type": "code",
   "execution_count": null,
   "id": "9be1ca80",
   "metadata": {},
   "outputs": [],
   "source": [
    "while True:\n",
    "    print('Tushar')"
   ]
  },
  {
   "cell_type": "markdown",
   "id": "5ccdbb89",
   "metadata": {},
   "source": [
    "#### loop in single line"
   ]
  },
  {
   "cell_type": "code",
   "execution_count": 17,
   "id": "dc601a74",
   "metadata": {},
   "outputs": [
    {
     "name": "stdout",
     "output_type": "stream",
     "text": [
      "1\n",
      "2\n",
      "3\n",
      "4\n",
      "5\n"
     ]
    }
   ],
   "source": [
    "num = 1\n",
    "while num <= 5:\n",
    "    print(num)\n",
    "    num += 1"
   ]
  },
  {
   "cell_type": "code",
   "execution_count": 18,
   "id": "cfedf9f4",
   "metadata": {},
   "outputs": [
    {
     "name": "stdout",
     "output_type": "stream",
     "text": [
      "1\n",
      "2\n",
      "3\n",
      "4\n",
      "5\n"
     ]
    }
   ],
   "source": [
    "num = 1\n",
    "while num <= 5:    print(num);    num += 1"
   ]
  },
  {
   "cell_type": "code",
   "execution_count": 21,
   "id": "c1d7d99e",
   "metadata": {},
   "outputs": [
    {
     "name": "stdout",
     "output_type": "stream",
     "text": [
      "5\n",
      "1234\n"
     ]
    }
   ],
   "source": [
    "# Find the sum of digits of a number\n",
    "# num = 12345 \n",
    "# sum = 1 + 2 + 3 + 4 + 5 = 15\n",
    "\n",
    "num = 12345 % 10\n",
    "print(num)\n",
    "num = 12345 // 10\n",
    "print(num)"
   ]
  },
  {
   "cell_type": "code",
   "execution_count": 23,
   "id": "102b59df",
   "metadata": {},
   "outputs": [
    {
     "name": "stdout",
     "output_type": "stream",
     "text": [
      "1234\n",
      "123\n",
      "12\n",
      "1\n",
      "0\n",
      "Sum of digits: 15\n"
     ]
    }
   ],
   "source": [
    "num = 12345\n",
    "add = 0\n",
    "while num > 0:\n",
    "    rem = num % 10\n",
    "    num = num // 10\n",
    "    print(num)\n",
    "    add = add + rem\n",
    "    \n",
    "print('Sum of digits:', add)"
   ]
  },
  {
   "cell_type": "markdown",
   "id": "df67ab5e",
   "metadata": {},
   "source": [
    "### For loop"
   ]
  },
  {
   "cell_type": "code",
   "execution_count": 25,
   "id": "326f0de9",
   "metadata": {},
   "outputs": [
    {
     "name": "stdout",
     "output_type": "stream",
     "text": [
      "45\n",
      "12\n",
      "67\n",
      "88\n"
     ]
    }
   ],
   "source": [
    "for n in 45,12,67,88:\n",
    "    print(n)"
   ]
  },
  {
   "cell_type": "code",
   "execution_count": 27,
   "id": "e9d1fdbe",
   "metadata": {},
   "outputs": [
    {
     "name": "stdout",
     "output_type": "stream",
     "text": [
      "22.5\n",
      "6.0\n",
      "33.5\n",
      "44.0\n",
      "11.5\n"
     ]
    }
   ],
   "source": [
    "for n in 45,12,67,88,23:\n",
    "    print(n/2)"
   ]
  },
  {
   "cell_type": "code",
   "execution_count": 28,
   "id": "8e10437b",
   "metadata": {},
   "outputs": [
    {
     "name": "stdout",
     "output_type": "stream",
     "text": [
      "45.12\n",
      "12\n",
      "Hello\n",
      "True\n",
      "86\n"
     ]
    }
   ],
   "source": [
    "for n in 45.12,12,'Hello',True,86:\n",
    "    print(n)"
   ]
  },
  {
   "cell_type": "code",
   "execution_count": 29,
   "id": "8ba37b5b",
   "metadata": {},
   "outputs": [
    {
     "name": "stdout",
     "output_type": "stream",
     "text": [
      "45.12 12 Hello True 86 "
     ]
    }
   ],
   "source": [
    "for n in 45.12,12,'Hello',True,86:\n",
    "    print(n, end=' ')"
   ]
  },
  {
   "cell_type": "markdown",
   "id": "e742131d",
   "metadata": {},
   "source": [
    "#### range function"
   ]
  },
  {
   "cell_type": "code",
   "execution_count": 31,
   "id": "fd9622de",
   "metadata": {},
   "outputs": [
    {
     "data": {
      "text/plain": [
       "[0, 1, 2, 3, 4, 5, 6, 7, 8, 9]"
      ]
     },
     "execution_count": 31,
     "metadata": {},
     "output_type": "execute_result"
    }
   ],
   "source": [
    "list(range(10))"
   ]
  },
  {
   "cell_type": "code",
   "execution_count": 32,
   "id": "cc332155",
   "metadata": {},
   "outputs": [
    {
     "data": {
      "text/plain": [
       "[4, 5, 6, 7, 8, 9]"
      ]
     },
     "execution_count": 32,
     "metadata": {},
     "output_type": "execute_result"
    }
   ],
   "source": [
    "list(range(4,10))"
   ]
  },
  {
   "cell_type": "code",
   "execution_count": 33,
   "id": "7356a67d",
   "metadata": {},
   "outputs": [
    {
     "data": {
      "text/plain": [
       "[2, 5, 8, 11, 14]"
      ]
     },
     "execution_count": 33,
     "metadata": {},
     "output_type": "execute_result"
    }
   ],
   "source": [
    "list(range(2,15,3))"
   ]
  },
  {
   "cell_type": "code",
   "execution_count": 34,
   "id": "bc289fb8",
   "metadata": {},
   "outputs": [
    {
     "data": {
      "text/plain": [
       "[20, 17, 14, 11, 8, 5]"
      ]
     },
     "execution_count": 34,
     "metadata": {},
     "output_type": "execute_result"
    }
   ],
   "source": [
    "list(range(20,3,-3))"
   ]
  },
  {
   "cell_type": "code",
   "execution_count": 35,
   "id": "2010a2a3",
   "metadata": {},
   "outputs": [
    {
     "name": "stdout",
     "output_type": "stream",
     "text": [
      "0\n",
      "1\n",
      "2\n",
      "3\n",
      "4\n"
     ]
    }
   ],
   "source": [
    "for x in range(5):\n",
    "    print(x)"
   ]
  },
  {
   "cell_type": "code",
   "execution_count": 36,
   "id": "e95efd24",
   "metadata": {},
   "outputs": [
    {
     "name": "stdout",
     "output_type": "stream",
     "text": [
      "1\n",
      "4\n",
      "9\n",
      "16\n",
      "25\n"
     ]
    }
   ],
   "source": [
    "for x in range(1,6):\n",
    "    print(x ** 2)"
   ]
  },
  {
   "cell_type": "code",
   "execution_count": 38,
   "id": "895c52ce",
   "metadata": {},
   "outputs": [
    {
     "name": "stdout",
     "output_type": "stream",
     "text": [
      "Tushar\n",
      "Tushar\n",
      "Tushar\n",
      "Tushar\n",
      "Tushar\n",
      "Tushar\n",
      "Tushar\n",
      "Tushar\n",
      "Tushar\n",
      "Tushar\n"
     ]
    }
   ],
   "source": [
    "# print your name 10 times using for loop\n",
    "\n",
    "for x in range(10):\n",
    "    print('Tushar')"
   ]
  },
  {
   "cell_type": "code",
   "execution_count": 39,
   "id": "986364c0",
   "metadata": {},
   "outputs": [
    {
     "name": "stdout",
     "output_type": "stream",
     "text": [
      "Addition is: 55\n"
     ]
    }
   ],
   "source": [
    "# Find addition of 10 numbers using for loop\n",
    "\n",
    "add = 0\n",
    "for n in range(1,11):\n",
    "    add = add + n\n",
    "    \n",
    "print('Addition is:', add)"
   ]
  },
  {
   "cell_type": "code",
   "execution_count": 42,
   "id": "09e3c098",
   "metadata": {},
   "outputs": [
    {
     "name": "stdout",
     "output_type": "stream",
     "text": [
      "Addition: 100\n"
     ]
    }
   ],
   "source": [
    "# Find addition of first 10 odd numbers using for loop\n",
    "\n",
    "add = 0\n",
    "for n in range(1,20,2):\n",
    "    add = add + n\n",
    "    \n",
    "print('Addition:', add)"
   ]
  },
  {
   "cell_type": "code",
   "execution_count": 43,
   "id": "c1f20c10",
   "metadata": {},
   "outputs": [
    {
     "name": "stdout",
     "output_type": "stream",
     "text": [
      "TTTTTTTTTTTTTTTTTTTTTTTTT\n",
      "uuuuuuuuuuuuuuuuuuuuuuuuu\n",
      "sssssssssssssssssssssssss\n",
      "hhhhhhhhhhhhhhhhhhhhhhhhh\n",
      "aaaaaaaaaaaaaaaaaaaaaaaaa\n",
      "rrrrrrrrrrrrrrrrrrrrrrrrr\n"
     ]
    }
   ],
   "source": [
    "name = 'Tushar'\n",
    "for c in name:\n",
    "    print(c * 25)"
   ]
  },
  {
   "cell_type": "code",
   "execution_count": 44,
   "id": "a08c9fe1",
   "metadata": {},
   "outputs": [
    {
     "name": "stdout",
     "output_type": "stream",
     "text": [
      "23\n",
      "65\n",
      "44\n",
      "12\n",
      "77\n",
      "89\n",
      "10\n"
     ]
    }
   ],
   "source": [
    "num = [23,65,44,12,77,89,10]\n",
    "\n",
    "for n in num:\n",
    "    print(n)"
   ]
  },
  {
   "cell_type": "markdown",
   "id": "cfc49d1a",
   "metadata": {},
   "source": [
    "#### else keyword"
   ]
  },
  {
   "cell_type": "code",
   "execution_count": 46,
   "id": "4bfb8b27",
   "metadata": {},
   "outputs": [
    {
     "name": "stdout",
     "output_type": "stream",
     "text": [
      "23 65 44 12 77 89 10 Loop Ended\n"
     ]
    }
   ],
   "source": [
    "num = [23,65,44,12,77,89,10]\n",
    "\n",
    "for n in num:\n",
    "    print(n, end=' ')\n",
    "else:\n",
    "    print('Loop Ended')"
   ]
  },
  {
   "cell_type": "code",
   "execution_count": 48,
   "id": "368f907f",
   "metadata": {},
   "outputs": [
    {
     "name": "stdout",
     "output_type": "stream",
     "text": [
      "Enter the number: 6\n",
      "Factorial: 720\n"
     ]
    }
   ],
   "source": [
    "# Find factorial of the number using for loop\n",
    "\n",
    "num = int(input('Enter the number: '))\n",
    "fact = 1\n",
    "for n in range(1, num+1):\n",
    "    fact = fact * n\n",
    "    \n",
    "print('Factorial:', fact)"
   ]
  },
  {
   "cell_type": "markdown",
   "id": "dcc97aeb",
   "metadata": {},
   "source": [
    "### break statement"
   ]
  },
  {
   "cell_type": "code",
   "execution_count": 50,
   "id": "3b3f95b4",
   "metadata": {},
   "outputs": [
    {
     "name": "stdout",
     "output_type": "stream",
     "text": [
      "1\n",
      "2\n",
      "3\n",
      "4\n"
     ]
    }
   ],
   "source": [
    "for n in range(1,11):\n",
    "    if n == 5:\n",
    "        break\n",
    "    print(n)"
   ]
  },
  {
   "cell_type": "code",
   "execution_count": 52,
   "id": "29477b0c",
   "metadata": {},
   "outputs": [
    {
     "name": "stdout",
     "output_type": "stream",
     "text": [
      "0\n",
      "1\n",
      "2\n",
      "3\n",
      "4\n",
      "5\n"
     ]
    }
   ],
   "source": [
    "count = 0\n",
    "while count < 10:\n",
    "    print(count)\n",
    "    if count == 5:\n",
    "        break\n",
    "    count += 1"
   ]
  },
  {
   "cell_type": "markdown",
   "id": "18004f65",
   "metadata": {},
   "source": [
    "### continue statement"
   ]
  },
  {
   "cell_type": "code",
   "execution_count": 54,
   "id": "455203d1",
   "metadata": {},
   "outputs": [
    {
     "name": "stdout",
     "output_type": "stream",
     "text": [
      "1\n",
      "2\n",
      "3\n",
      "4\n",
      "6\n",
      "7\n",
      "8\n",
      "9\n",
      "10\n"
     ]
    }
   ],
   "source": [
    "for n in range(1,11):\n",
    "    if n == 5:\n",
    "        continue\n",
    "    print(n)"
   ]
  },
  {
   "cell_type": "code",
   "execution_count": 55,
   "id": "d28a23da",
   "metadata": {},
   "outputs": [
    {
     "name": "stdout",
     "output_type": "stream",
     "text": [
      "1\n",
      "3\n",
      "5\n",
      "7\n",
      "9\n"
     ]
    }
   ],
   "source": [
    "for n in range(1,11):\n",
    "    if n % 2 == 0:\n",
    "        continue\n",
    "    print(n)"
   ]
  },
  {
   "cell_type": "markdown",
   "id": "7ee28d4d",
   "metadata": {},
   "source": [
    "### pass statement"
   ]
  },
  {
   "cell_type": "code",
   "execution_count": 58,
   "id": "3f971920",
   "metadata": {},
   "outputs": [
    {
     "name": "stdout",
     "output_type": "stream",
     "text": [
      "Yes\n"
     ]
    }
   ],
   "source": [
    "# Fills the empty space in indentation\n",
    "\n",
    "num = 89\n",
    "if num > 100:\n",
    "    pass\n",
    "else:\n",
    "    print('Yes')"
   ]
  },
  {
   "cell_type": "code",
   "execution_count": 59,
   "id": "8799b227",
   "metadata": {},
   "outputs": [],
   "source": [
    "for x in range(10):\n",
    "    pass"
   ]
  },
  {
   "cell_type": "code",
   "execution_count": 60,
   "id": "fbbe2d49",
   "metadata": {},
   "outputs": [
    {
     "name": "stdout",
     "output_type": "stream",
     "text": [
      "Sum of digits 123 is 123\n"
     ]
    }
   ],
   "source": [
    "num = 123\n",
    "print('Sum of digits',num,'is',num)"
   ]
  },
  {
   "cell_type": "code",
   "execution_count": null,
   "id": "e339f607",
   "metadata": {},
   "outputs": [],
   "source": []
  }
 ],
 "metadata": {
  "kernelspec": {
   "display_name": "Python 3",
   "language": "python",
   "name": "python3"
  },
  "language_info": {
   "codemirror_mode": {
    "name": "ipython",
    "version": 3
   },
   "file_extension": ".py",
   "mimetype": "text/x-python",
   "name": "python",
   "nbconvert_exporter": "python",
   "pygments_lexer": "ipython3",
   "version": "3.8.10"
  }
 },
 "nbformat": 4,
 "nbformat_minor": 5
}
