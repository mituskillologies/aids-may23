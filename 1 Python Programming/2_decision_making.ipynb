{
 "cells": [
  {
   "cell_type": "code",
   "execution_count": 2,
   "metadata": {},
   "outputs": [
    {
     "name": "stdout",
     "output_type": "stream",
     "text": [
      "Enter the number: 78\n",
      "Number is greater than 50!\n"
     ]
    }
   ],
   "source": [
    "# Check number is greater thatn 50\n",
    "num = int(input('Enter the number: '))\n",
    "\n",
    "if num > 50:\n",
    "    print('Number is greater than 50!')"
   ]
  },
  {
   "cell_type": "code",
   "execution_count": 8,
   "metadata": {},
   "outputs": [
    {
     "name": "stdout",
     "output_type": "stream",
     "text": [
      "Enter the number: 0\n",
      "Number is negative\n",
      "Done!\n"
     ]
    }
   ],
   "source": [
    "# Check to see if number is positive or negative\n",
    "num = int(input('Enter the number: '))\n",
    "\n",
    "if num > 0:\n",
    "    print('Number is positive')\n",
    "    print('Good Bye!')\n",
    "else:\n",
    "    print('Number is negative')\n",
    "    print('Done!')"
   ]
  },
  {
   "cell_type": "code",
   "execution_count": 11,
   "metadata": {},
   "outputs": [
    {
     "name": "stdout",
     "output_type": "stream",
     "text": [
      "Enter the number: 6\n",
      "Number is positive\n"
     ]
    }
   ],
   "source": [
    "# Check to see if number is positive or negative\n",
    "num = int(input('Enter the number: '))\n",
    "\n",
    "if num > 0:           # Compulsory, Condition, Non-repeatable\n",
    "    print('Number is positive')\n",
    "elif num == 0:        # Optional, Condition, Repeatable\n",
    "    print('The number is ZERO')\n",
    "else:                 # Optional, No-condition, Non-repeatable\n",
    "    print('Number is negative')"
   ]
  },
  {
   "cell_type": "code",
   "execution_count": 12,
   "metadata": {},
   "outputs": [
    {
     "name": "stdout",
     "output_type": "stream",
     "text": [
      "Enter the number: 13\n",
      "Number is Odd\n"
     ]
    }
   ],
   "source": [
    "# Write a program to find the number is odd / even\n",
    "\n",
    "num = int(input('Enter the number: '))\n",
    "\n",
    "if num == 0:\n",
    "    print('It is ZERO')\n",
    "elif num % 2 == 0:\n",
    "    print('Number is Even')\n",
    "else:\n",
    "    print('Number is Odd')"
   ]
  },
  {
   "cell_type": "code",
   "execution_count": 15,
   "metadata": {},
   "outputs": [
    {
     "data": {
      "text/plain": [
       "2"
      ]
     },
     "execution_count": 15,
     "metadata": {},
     "output_type": "execute_result"
    }
   ],
   "source": [
    "True + True + False"
   ]
  },
  {
   "cell_type": "code",
   "execution_count": 16,
   "metadata": {},
   "outputs": [
    {
     "data": {
      "text/plain": [
       "0"
      ]
     },
     "execution_count": 16,
     "metadata": {},
     "output_type": "execute_result"
    }
   ],
   "source": [
    "int(False)"
   ]
  },
  {
   "cell_type": "code",
   "execution_count": 21,
   "metadata": {},
   "outputs": [
    {
     "name": "stdout",
     "output_type": "stream",
     "text": [
      "Hello\n"
     ]
    }
   ],
   "source": [
    "a = 89\n",
    "if a:\n",
    "    print('Hello')"
   ]
  },
  {
   "cell_type": "code",
   "execution_count": 23,
   "metadata": {},
   "outputs": [
    {
     "name": "stdout",
     "output_type": "stream",
     "text": [
      "Enter the number: 112\n",
      "Incorrect\n"
     ]
    }
   ],
   "source": [
    "# Check to see that number is between 50 and 100\n",
    "\n",
    "num = int(input('Enter the number: '))\n",
    "if num > 50:\n",
    "    if num < 100:\n",
    "        print('Correct')\n",
    "    else:\n",
    "        print('Incorrect')\n",
    "else:\n",
    "    print('Incorrect')"
   ]
  },
  {
   "cell_type": "code",
   "execution_count": 24,
   "metadata": {},
   "outputs": [
    {
     "name": "stdout",
     "output_type": "stream",
     "text": [
      "Enter the number: 67\n",
      "Correct\n"
     ]
    }
   ],
   "source": [
    "num = int(input('Enter the number: '))\n",
    "if num > 50 and num < 100:\n",
    "    print('Correct')\n",
    "else:\n",
    "    print('Incorrect')"
   ]
  },
  {
   "cell_type": "code",
   "execution_count": 26,
   "metadata": {},
   "outputs": [
    {
     "name": "stdout",
     "output_type": "stream",
     "text": [
      "Enter purchase cost:100\n",
      "Enter selling cost:100\n",
      "Profit: 0.0\n"
     ]
    }
   ],
   "source": [
    "# Read the purchase and selling cost from user\n",
    "# Find whether you got loss or profit and how much?\n",
    "\n",
    "purchase_cost = float(input('Enter purchase cost:'))\n",
    "selling_cost = float(input('Enter selling cost:'))\n",
    "\n",
    "if purchase_cost > selling_cost:\n",
    "    print('Loss:', purchase_cost - selling_cost)\n",
    "else:\n",
    "    print('Profit:', selling_cost - purchase_cost)"
   ]
  },
  {
   "cell_type": "code",
   "execution_count": 27,
   "metadata": {},
   "outputs": [],
   "source": [
    "# Read three numbers from keyboard and\n",
    "# find largest of them. You are not allowed to\n",
    "# use ‘and’ and ‘or’ operators."
   ]
  },
  {
   "cell_type": "code",
   "execution_count": 29,
   "metadata": {},
   "outputs": [
    {
     "name": "stdout",
     "output_type": "stream",
     "text": [
      "Enter first number: 56\n",
      "Enter second number: 56\n",
      "Enter third number: 56\n",
      "largest: 56.0\n"
     ]
    }
   ],
   "source": [
    "num1 = float(input('Enter first number: '))\n",
    "num2 = float(input('Enter second number: '))\n",
    "num3 = float(input('Enter third number: '))\n",
    "\n",
    "if num1 > num2:\n",
    "    if num1 > num3:\n",
    "        print('largest:', num1)\n",
    "    else:\n",
    "        print('largest:', num3)\n",
    "else:\n",
    "    if num2 > num3:\n",
    "        print('largest:', num2)\n",
    "    else:\n",
    "        print('largest:', num3)"
   ]
  },
  {
   "cell_type": "code",
   "execution_count": 30,
   "metadata": {},
   "outputs": [
    {
     "name": "stdout",
     "output_type": "stream",
     "text": [
      "Enter the year: 1700\n",
      "Not Leap\n"
     ]
    }
   ],
   "source": [
    "# 2020 - Leap\n",
    "# 2021 - Not leap\n",
    "# 2000 - Leap\n",
    "# 1900 - Not leap\n",
    "\n",
    "year = int(input('Enter the year: '))\n",
    "if year % 4 == 0:\n",
    "    if year % 100 == 0:\n",
    "        if year % 400 == 0:\n",
    "            print('Leap year')   # 2000, 2400\n",
    "        else:\n",
    "            print('Not Leap')    # 1900, 1800\n",
    "    else:\n",
    "        print('Leap year')       # 2020, 2024\n",
    "else:\n",
    "    print('Not leap')            # 2022, 2023"
   ]
  },
  {
   "cell_type": "code",
   "execution_count": 31,
   "metadata": {},
   "outputs": [
    {
     "name": "stdout",
     "output_type": "stream",
     "text": [
      "Enter the marks: 56\n",
      "Second Class\n"
     ]
    }
   ],
   "source": [
    "marks = float(input('Enter the marks: '))\n",
    "\n",
    "if marks >= 75:\n",
    "    print('Distinction')\n",
    "elif marks >= 60:\n",
    "    print('First Class')\n",
    "elif marks >= 50:\n",
    "    print('Second Class') \n",
    "elif marks >= 40:\n",
    "    print('Pass Class')\n",
    "else:\n",
    "    print('Failed!')"
   ]
  },
  {
   "cell_type": "code",
   "execution_count": 34,
   "metadata": {},
   "outputs": [
    {
     "name": "stdout",
     "output_type": "stream",
     "text": [
      "Enter the number: 34\n",
      "MENU\n",
      "1.Square\n",
      "2.Cube\n",
      "3.+ve/-ve\n",
      "Enter the choice: 9\n",
      "Wrong Choice\n"
     ]
    }
   ],
   "source": [
    "'''Read a number from user and do the following\n",
    "by showing menu:\n",
    "1. Find its square\n",
    "2. Find cube\n",
    "3. Check positive / negative'''\n",
    "\n",
    "num = int(input('Enter the number: '))\n",
    "print('MENU\\n1.Square\\n2.Cube\\n3.+ve/-ve')\n",
    "choice = int(input('Enter the choice: '))\n",
    "\n",
    "if choice == 1:\n",
    "    print('Square:', num * num)\n",
    "elif choice == 2:\n",
    "    print('Cube:', num ** 3)\n",
    "elif choice == 3:\n",
    "    if num > 0:\n",
    "        print('Positive')\n",
    "    else:\n",
    "        print('Negative')\n",
    "else:\n",
    "    print('Wrong Choice')"
   ]
  },
  {
   "cell_type": "code",
   "execution_count": null,
   "metadata": {},
   "outputs": [],
   "source": []
  }
 ],
 "metadata": {
  "kernelspec": {
   "display_name": "Python 3",
   "language": "python",
   "name": "python3"
  },
  "language_info": {
   "codemirror_mode": {
    "name": "ipython",
    "version": 3
   },
   "file_extension": ".py",
   "mimetype": "text/x-python",
   "name": "python",
   "nbconvert_exporter": "python",
   "pygments_lexer": "ipython3",
   "version": "3.8.10"
  }
 },
 "nbformat": 4,
 "nbformat_minor": 4
}
