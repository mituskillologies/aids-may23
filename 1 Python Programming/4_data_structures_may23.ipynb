{
 "cells": [
  {
   "cell_type": "code",
   "execution_count": 1,
   "id": "b5390882",
   "metadata": {},
   "outputs": [],
   "source": [
    "num = [45,11,67,51,83,29,52]"
   ]
  },
  {
   "cell_type": "code",
   "execution_count": 2,
   "id": "0dcb88b8",
   "metadata": {},
   "outputs": [
    {
     "data": {
      "text/plain": [
       "list"
      ]
     },
     "execution_count": 2,
     "metadata": {},
     "output_type": "execute_result"
    }
   ],
   "source": [
    "type(num)"
   ]
  },
  {
   "cell_type": "code",
   "execution_count": 3,
   "id": "cb509be7",
   "metadata": {},
   "outputs": [
    {
     "data": {
      "text/plain": [
       "tuple"
      ]
     },
     "execution_count": 3,
     "metadata": {},
     "output_type": "execute_result"
    }
   ],
   "source": [
    "num = (45,11,67,51,83,29,52)\n",
    "type(num)"
   ]
  },
  {
   "cell_type": "code",
   "execution_count": 4,
   "id": "2816880a",
   "metadata": {},
   "outputs": [
    {
     "data": {
      "text/plain": [
       "set"
      ]
     },
     "execution_count": 4,
     "metadata": {},
     "output_type": "execute_result"
    }
   ],
   "source": [
    "num = {45,11,67,51,83,29,52}\n",
    "type(num)"
   ]
  },
  {
   "cell_type": "code",
   "execution_count": 5,
   "id": "1a9ce0a5",
   "metadata": {},
   "outputs": [
    {
     "data": {
      "text/plain": [
       "dict"
      ]
     },
     "execution_count": 5,
     "metadata": {},
     "output_type": "execute_result"
    }
   ],
   "source": [
    "num = {45:11,67:51,83:29,52:12}\n",
    "type(num)"
   ]
  },
  {
   "cell_type": "markdown",
   "id": "edaa99f0",
   "metadata": {},
   "source": [
    "### List"
   ]
  },
  {
   "cell_type": "markdown",
   "id": "2b9851f3",
   "metadata": {},
   "source": [
    "#### Declare a list"
   ]
  },
  {
   "cell_type": "code",
   "execution_count": 8,
   "id": "ae549ca1",
   "metadata": {},
   "outputs": [],
   "source": [
    "num = [12,67,41,29,74,16,30,25]"
   ]
  },
  {
   "cell_type": "code",
   "execution_count": 9,
   "id": "5cb38269",
   "metadata": {},
   "outputs": [
    {
     "data": {
      "text/plain": [
       "list"
      ]
     },
     "execution_count": 9,
     "metadata": {},
     "output_type": "execute_result"
    }
   ],
   "source": [
    "type(num)"
   ]
  },
  {
   "cell_type": "code",
   "execution_count": 10,
   "id": "c85419e2",
   "metadata": {},
   "outputs": [],
   "source": [
    "mydata = [56.12, 'Hello','Pune',223, True]"
   ]
  },
  {
   "cell_type": "code",
   "execution_count": 11,
   "id": "68e56c82",
   "metadata": {},
   "outputs": [
    {
     "data": {
      "text/plain": [
       "list"
      ]
     },
     "execution_count": 11,
     "metadata": {},
     "output_type": "execute_result"
    }
   ],
   "source": [
    "type(mydata)"
   ]
  },
  {
   "cell_type": "markdown",
   "id": "3961abf8",
   "metadata": {},
   "source": [
    "#### Access the data"
   ]
  },
  {
   "cell_type": "code",
   "execution_count": 13,
   "id": "bb15f51c",
   "metadata": {},
   "outputs": [
    {
     "data": {
      "text/plain": [
       "12"
      ]
     },
     "execution_count": 13,
     "metadata": {},
     "output_type": "execute_result"
    }
   ],
   "source": [
    "num[0]"
   ]
  },
  {
   "cell_type": "code",
   "execution_count": 14,
   "id": "aa8c002b",
   "metadata": {},
   "outputs": [
    {
     "data": {
      "text/plain": [
       "74"
      ]
     },
     "execution_count": 14,
     "metadata": {},
     "output_type": "execute_result"
    }
   ],
   "source": [
    "num[4]"
   ]
  },
  {
   "cell_type": "code",
   "execution_count": 15,
   "id": "805ee9bc",
   "metadata": {},
   "outputs": [
    {
     "data": {
      "text/plain": [
       "25"
      ]
     },
     "execution_count": 15,
     "metadata": {},
     "output_type": "execute_result"
    }
   ],
   "source": [
    "num[-1]"
   ]
  },
  {
   "cell_type": "markdown",
   "id": "7e873db0",
   "metadata": {},
   "source": [
    "#### Replace the data"
   ]
  },
  {
   "cell_type": "code",
   "execution_count": 17,
   "id": "b0935a1f",
   "metadata": {},
   "outputs": [
    {
     "data": {
      "text/plain": [
       "[12, 67, 41, 29, 74, 16, 30, 25]"
      ]
     },
     "execution_count": 17,
     "metadata": {},
     "output_type": "execute_result"
    }
   ],
   "source": [
    "num"
   ]
  },
  {
   "cell_type": "code",
   "execution_count": 18,
   "id": "6339a06b",
   "metadata": {},
   "outputs": [
    {
     "data": {
      "text/plain": [
       "[12, 67, 51, 29, 74, 16, 30, 25]"
      ]
     },
     "execution_count": 18,
     "metadata": {},
     "output_type": "execute_result"
    }
   ],
   "source": [
    "num[2] = 51\n",
    "num"
   ]
  },
  {
   "cell_type": "code",
   "execution_count": 19,
   "id": "a8c3619d",
   "metadata": {},
   "outputs": [
    {
     "data": {
      "text/plain": [
       "[12, 67, 51, 29, 74, 16, 40, 25]"
      ]
     },
     "execution_count": 19,
     "metadata": {},
     "output_type": "execute_result"
    }
   ],
   "source": [
    "num[-2] = 40\n",
    "num"
   ]
  },
  {
   "cell_type": "markdown",
   "id": "2fb55ba1",
   "metadata": {},
   "source": [
    "#### Slicing of list"
   ]
  },
  {
   "cell_type": "code",
   "execution_count": 21,
   "id": "f74937d3",
   "metadata": {},
   "outputs": [],
   "source": [
    "x = num[2:6]"
   ]
  },
  {
   "cell_type": "code",
   "execution_count": 22,
   "id": "a3de9eef",
   "metadata": {},
   "outputs": [
    {
     "data": {
      "text/plain": [
       "[51, 29, 74, 16]"
      ]
     },
     "execution_count": 22,
     "metadata": {},
     "output_type": "execute_result"
    }
   ],
   "source": [
    "x"
   ]
  },
  {
   "cell_type": "code",
   "execution_count": 23,
   "id": "0cb64410",
   "metadata": {},
   "outputs": [
    {
     "data": {
      "text/plain": [
       "[51, 29, 74, 16, 40, 25]"
      ]
     },
     "execution_count": 23,
     "metadata": {},
     "output_type": "execute_result"
    }
   ],
   "source": [
    "num[2:]"
   ]
  },
  {
   "cell_type": "code",
   "execution_count": 24,
   "id": "d35cd57b",
   "metadata": {},
   "outputs": [
    {
     "data": {
      "text/plain": [
       "[12, 67, 51, 29, 74, 16]"
      ]
     },
     "execution_count": 24,
     "metadata": {},
     "output_type": "execute_result"
    }
   ],
   "source": [
    "num[:6]"
   ]
  },
  {
   "cell_type": "markdown",
   "id": "486eed3a",
   "metadata": {},
   "source": [
    "#### Replace with slice"
   ]
  },
  {
   "cell_type": "code",
   "execution_count": 26,
   "id": "1f675b98",
   "metadata": {},
   "outputs": [
    {
     "data": {
      "text/plain": [
       "[12, 67, 51, 29, 74, 16, 40, 25]"
      ]
     },
     "execution_count": 26,
     "metadata": {},
     "output_type": "execute_result"
    }
   ],
   "source": [
    "num"
   ]
  },
  {
   "cell_type": "code",
   "execution_count": 27,
   "id": "afd4a88e",
   "metadata": {},
   "outputs": [
    {
     "data": {
      "text/plain": [
       "[51, 29, 74]"
      ]
     },
     "execution_count": 27,
     "metadata": {},
     "output_type": "execute_result"
    }
   ],
   "source": [
    "num[2:5]"
   ]
  },
  {
   "cell_type": "code",
   "execution_count": 28,
   "id": "bffed42a",
   "metadata": {},
   "outputs": [
    {
     "data": {
      "text/plain": [
       "[12, 67, 78, 21, 36, 16, 40, 25]"
      ]
     },
     "execution_count": 28,
     "metadata": {},
     "output_type": "execute_result"
    }
   ],
   "source": [
    "num[2:5] = [78,21,36]\n",
    "num"
   ]
  },
  {
   "cell_type": "code",
   "execution_count": 30,
   "id": "3bf41f77",
   "metadata": {},
   "outputs": [
    {
     "data": {
      "text/plain": [
       "[12, 67, 51, 29, 74, 16, 40, 25]"
      ]
     },
     "execution_count": 30,
     "metadata": {},
     "output_type": "execute_result"
    }
   ],
   "source": [
    "num = [12, 67, 51, 29, 74, 16, 40, 25]\n",
    "num"
   ]
  },
  {
   "cell_type": "markdown",
   "id": "36be28a7",
   "metadata": {},
   "source": [
    "#### Delete the data"
   ]
  },
  {
   "cell_type": "code",
   "execution_count": 32,
   "id": "fdfd208a",
   "metadata": {},
   "outputs": [
    {
     "data": {
      "text/plain": [
       "[12, 67, 29, 74, 16, 40, 25]"
      ]
     },
     "execution_count": 32,
     "metadata": {},
     "output_type": "execute_result"
    }
   ],
   "source": [
    "del num[2]\n",
    "num"
   ]
  },
  {
   "cell_type": "code",
   "execution_count": 33,
   "id": "430805bf",
   "metadata": {},
   "outputs": [
    {
     "data": {
      "text/plain": [
       "[34, 56, 88]"
      ]
     },
     "execution_count": 33,
     "metadata": {},
     "output_type": "execute_result"
    }
   ],
   "source": [
    "new = [34,56,88]\n",
    "new"
   ]
  },
  {
   "cell_type": "code",
   "execution_count": 34,
   "id": "b1ccd872",
   "metadata": {},
   "outputs": [],
   "source": [
    "del new"
   ]
  },
  {
   "cell_type": "code",
   "execution_count": 35,
   "id": "3ba029c7",
   "metadata": {},
   "outputs": [
    {
     "ename": "NameError",
     "evalue": "name 'new' is not defined",
     "output_type": "error",
     "traceback": [
      "\u001b[0;31m---------------------------------------------------------------------------\u001b[0m",
      "\u001b[0;31mNameError\u001b[0m                                 Traceback (most recent call last)",
      "\u001b[0;32m<ipython-input-35-389cc6b7ae5a>\u001b[0m in \u001b[0;36m<module>\u001b[0;34m\u001b[0m\n\u001b[0;32m----> 1\u001b[0;31m \u001b[0mnew\u001b[0m\u001b[0;34m\u001b[0m\u001b[0;34m\u001b[0m\u001b[0m\n\u001b[0m",
      "\u001b[0;31mNameError\u001b[0m: name 'new' is not defined"
     ]
    }
   ],
   "source": [
    "new"
   ]
  },
  {
   "cell_type": "markdown",
   "id": "efbd053d",
   "metadata": {},
   "source": [
    "#### in operator"
   ]
  },
  {
   "cell_type": "code",
   "execution_count": 37,
   "id": "b0de1ee8",
   "metadata": {},
   "outputs": [
    {
     "data": {
      "text/plain": [
       "[12, 67, 29, 74, 16, 40, 25]"
      ]
     },
     "execution_count": 37,
     "metadata": {},
     "output_type": "execute_result"
    }
   ],
   "source": [
    "num"
   ]
  },
  {
   "cell_type": "code",
   "execution_count": 38,
   "id": "ea31270a",
   "metadata": {},
   "outputs": [
    {
     "data": {
      "text/plain": [
       "True"
      ]
     },
     "execution_count": 38,
     "metadata": {},
     "output_type": "execute_result"
    }
   ],
   "source": [
    "29 in num"
   ]
  },
  {
   "cell_type": "code",
   "execution_count": 39,
   "id": "c83516b4",
   "metadata": {},
   "outputs": [
    {
     "data": {
      "text/plain": [
       "False"
      ]
     },
     "execution_count": 39,
     "metadata": {},
     "output_type": "execute_result"
    }
   ],
   "source": [
    "16 not in num"
   ]
  },
  {
   "cell_type": "code",
   "execution_count": 40,
   "id": "0c8d9e43",
   "metadata": {},
   "outputs": [
    {
     "data": {
      "text/plain": [
       "True"
      ]
     },
     "execution_count": 40,
     "metadata": {},
     "output_type": "execute_result"
    }
   ],
   "source": [
    "45 not in num"
   ]
  },
  {
   "cell_type": "markdown",
   "id": "b232956b",
   "metadata": {},
   "source": [
    "#### Arithmetic operations"
   ]
  },
  {
   "cell_type": "code",
   "execution_count": 42,
   "id": "5098adcc",
   "metadata": {},
   "outputs": [
    {
     "data": {
      "text/plain": [
       "[12, 67, 29, 74, 16, 40, 25, 12, 67, 29, 74, 16, 40, 25]"
      ]
     },
     "execution_count": 42,
     "metadata": {},
     "output_type": "execute_result"
    }
   ],
   "source": [
    "num * 2"
   ]
  },
  {
   "cell_type": "code",
   "execution_count": 43,
   "id": "47c8be38",
   "metadata": {},
   "outputs": [
    {
     "data": {
      "text/plain": [
       "[12, 67, 29, 74, 16, 40, 25, 12, 78]"
      ]
     },
     "execution_count": 43,
     "metadata": {},
     "output_type": "execute_result"
    }
   ],
   "source": [
    "num + [12,78]"
   ]
  },
  {
   "cell_type": "code",
   "execution_count": 44,
   "id": "813ebebb",
   "metadata": {},
   "outputs": [
    {
     "data": {
      "text/plain": [
       "[12, 67, 29, 74, 16, 40, 25, 56.12, 'Hello', 'Pune', 223, True]"
      ]
     },
     "execution_count": 44,
     "metadata": {},
     "output_type": "execute_result"
    }
   ],
   "source": [
    "num + mydata"
   ]
  },
  {
   "cell_type": "code",
   "execution_count": 45,
   "id": "0fd9e69a",
   "metadata": {},
   "outputs": [
    {
     "data": {
      "text/plain": [
       "[12, 67, 29, 74, 16, 40, 25, 12, 67, 29, 74, 16, 40, 25]"
      ]
     },
     "execution_count": 45,
     "metadata": {},
     "output_type": "execute_result"
    }
   ],
   "source": [
    "x = num * 2\n",
    "x"
   ]
  },
  {
   "cell_type": "markdown",
   "id": "411eed0a",
   "metadata": {},
   "source": [
    "#### Iterating the list"
   ]
  },
  {
   "cell_type": "code",
   "execution_count": 47,
   "id": "c0ce71d3",
   "metadata": {},
   "outputs": [
    {
     "name": "stdout",
     "output_type": "stream",
     "text": [
      "144 4489 841 5476 256 1600 625 "
     ]
    }
   ],
   "source": [
    "for i in num:\n",
    "    print(i*i, end=' ')"
   ]
  },
  {
   "cell_type": "code",
   "execution_count": 49,
   "id": "c21914c9",
   "metadata": {},
   "outputs": [
    {
     "data": {
      "text/plain": [
       "[12, 67, 29, 74, 16, 40, 25]"
      ]
     },
     "execution_count": 49,
     "metadata": {},
     "output_type": "execute_result"
    }
   ],
   "source": [
    "num"
   ]
  },
  {
   "cell_type": "code",
   "execution_count": 48,
   "id": "406fd27f",
   "metadata": {},
   "outputs": [
    {
     "name": "stdout",
     "output_type": "stream",
     "text": [
      "67 29 25 "
     ]
    }
   ],
   "source": [
    "# Write a program to print only odd numbers from this list\n",
    "for i in num:\n",
    "    if i % 2 == 1:\n",
    "        print(i, end=' ')"
   ]
  },
  {
   "cell_type": "markdown",
   "id": "e8288fcb",
   "metadata": {},
   "source": [
    "#### List comprehension - map"
   ]
  },
  {
   "cell_type": "code",
   "execution_count": 51,
   "id": "7a35a16d",
   "metadata": {},
   "outputs": [
    {
     "data": {
      "text/plain": [
       "[12, 67, 29, 74, 16, 40, 25]"
      ]
     },
     "execution_count": 51,
     "metadata": {},
     "output_type": "execute_result"
    }
   ],
   "source": [
    "num"
   ]
  },
  {
   "cell_type": "code",
   "execution_count": 52,
   "id": "fdd416e9",
   "metadata": {},
   "outputs": [
    {
     "data": {
      "text/plain": [
       "[6.0, 33.5, 14.5, 37.0, 8.0, 20.0, 12.5]"
      ]
     },
     "execution_count": 52,
     "metadata": {},
     "output_type": "execute_result"
    }
   ],
   "source": [
    "new = [x/2 for x in num]\n",
    "new"
   ]
  },
  {
   "cell_type": "code",
   "execution_count": 53,
   "id": "2022554b",
   "metadata": {},
   "outputs": [
    {
     "data": {
      "text/plain": [
       "[144, 4489, 841, 5476, 256, 1600, 625]"
      ]
     },
     "execution_count": 53,
     "metadata": {},
     "output_type": "execute_result"
    }
   ],
   "source": [
    "new = [x**2 for x in num]\n",
    "new"
   ]
  },
  {
   "cell_type": "markdown",
   "id": "0801e00a",
   "metadata": {},
   "source": [
    "#### List comprehension - filter"
   ]
  },
  {
   "cell_type": "code",
   "execution_count": 55,
   "id": "bcb79fcc",
   "metadata": {},
   "outputs": [
    {
     "data": {
      "text/plain": [
       "[67, 74, 40]"
      ]
     },
     "execution_count": 55,
     "metadata": {},
     "output_type": "execute_result"
    }
   ],
   "source": [
    "new = [x for x in num if x > 30]\n",
    "new"
   ]
  },
  {
   "cell_type": "code",
   "execution_count": 56,
   "id": "ed8549ae",
   "metadata": {},
   "outputs": [
    {
     "data": {
      "text/plain": [
       "[12, 74, 16, 40]"
      ]
     },
     "execution_count": 56,
     "metadata": {},
     "output_type": "execute_result"
    }
   ],
   "source": [
    "# Filter even numbers\n",
    "new = [x for x in num if x % 2 == 0]\n",
    "new"
   ]
  },
  {
   "cell_type": "code",
   "execution_count": 57,
   "id": "49ff7c75",
   "metadata": {},
   "outputs": [],
   "source": [
    "names = ['anil','priya','raju','amar','akshay','riya']"
   ]
  },
  {
   "cell_type": "code",
   "execution_count": 60,
   "id": "e5209a3a",
   "metadata": {},
   "outputs": [
    {
     "data": {
      "text/plain": [
       "['anil', 'amar', 'akshay']"
      ]
     },
     "execution_count": 60,
     "metadata": {},
     "output_type": "execute_result"
    }
   ],
   "source": [
    "[s for s in names if s.startswith('a')]"
   ]
  },
  {
   "cell_type": "code",
   "execution_count": 61,
   "id": "45110e11",
   "metadata": {},
   "outputs": [
    {
     "data": {
      "text/plain": [
       "['Anil', 'Priya', 'Raju', 'Amar', 'Akshay', 'Riya']"
      ]
     },
     "execution_count": 61,
     "metadata": {},
     "output_type": "execute_result"
    }
   ],
   "source": [
    "[s.title() for s in names]"
   ]
  },
  {
   "cell_type": "markdown",
   "id": "86b9896c",
   "metadata": {},
   "source": [
    "#### Empty list "
   ]
  },
  {
   "cell_type": "code",
   "execution_count": 68,
   "id": "1313cf77",
   "metadata": {},
   "outputs": [],
   "source": [
    "e = []"
   ]
  },
  {
   "cell_type": "code",
   "execution_count": 64,
   "id": "de40a1bc",
   "metadata": {},
   "outputs": [
    {
     "data": {
      "text/plain": [
       "list"
      ]
     },
     "execution_count": 64,
     "metadata": {},
     "output_type": "execute_result"
    }
   ],
   "source": [
    "type(e)"
   ]
  },
  {
   "cell_type": "code",
   "execution_count": 65,
   "id": "f460d963",
   "metadata": {},
   "outputs": [
    {
     "ename": "IndexError",
     "evalue": "list index out of range",
     "output_type": "error",
     "traceback": [
      "\u001b[0;31m---------------------------------------------------------------------------\u001b[0m",
      "\u001b[0;31mIndexError\u001b[0m                                Traceback (most recent call last)",
      "\u001b[0;32m<ipython-input-65-8088862005ba>\u001b[0m in \u001b[0;36m<module>\u001b[0;34m\u001b[0m\n\u001b[0;32m----> 1\u001b[0;31m \u001b[0me\u001b[0m\u001b[0;34m[\u001b[0m\u001b[0;36m0\u001b[0m\u001b[0;34m]\u001b[0m\u001b[0;34m\u001b[0m\u001b[0;34m\u001b[0m\u001b[0m\n\u001b[0m",
      "\u001b[0;31mIndexError\u001b[0m: list index out of range"
     ]
    }
   ],
   "source": [
    "e[0]"
   ]
  },
  {
   "cell_type": "code",
   "execution_count": 69,
   "id": "52338c4c",
   "metadata": {},
   "outputs": [
    {
     "data": {
      "text/plain": [
       "[34]"
      ]
     },
     "execution_count": 69,
     "metadata": {},
     "output_type": "execute_result"
    }
   ],
   "source": [
    "e = e + [34]\n",
    "e"
   ]
  },
  {
   "cell_type": "code",
   "execution_count": 70,
   "id": "ffaf5a3d",
   "metadata": {},
   "outputs": [
    {
     "data": {
      "text/plain": [
       "[34, 12, 67]"
      ]
     },
     "execution_count": 70,
     "metadata": {},
     "output_type": "execute_result"
    }
   ],
   "source": [
    "e = e + [12, 67]\n",
    "e"
   ]
  },
  {
   "cell_type": "markdown",
   "id": "1e9db613",
   "metadata": {},
   "source": [
    "#### Decompose the list"
   ]
  },
  {
   "cell_type": "code",
   "execution_count": 72,
   "id": "b7d5c9a6",
   "metadata": {},
   "outputs": [],
   "source": [
    "mylist = [45,78,12]"
   ]
  },
  {
   "cell_type": "code",
   "execution_count": 73,
   "id": "181dab47",
   "metadata": {},
   "outputs": [],
   "source": [
    "x, y, z = mylist"
   ]
  },
  {
   "cell_type": "code",
   "execution_count": 74,
   "id": "277ae732",
   "metadata": {},
   "outputs": [
    {
     "data": {
      "text/plain": [
       "45"
      ]
     },
     "execution_count": 74,
     "metadata": {},
     "output_type": "execute_result"
    }
   ],
   "source": [
    "x"
   ]
  },
  {
   "cell_type": "code",
   "execution_count": 75,
   "id": "746d215a",
   "metadata": {},
   "outputs": [
    {
     "data": {
      "text/plain": [
       "78"
      ]
     },
     "execution_count": 75,
     "metadata": {},
     "output_type": "execute_result"
    }
   ],
   "source": [
    "y"
   ]
  },
  {
   "cell_type": "code",
   "execution_count": 76,
   "id": "a4ddabb1",
   "metadata": {},
   "outputs": [
    {
     "data": {
      "text/plain": [
       "12"
      ]
     },
     "execution_count": 76,
     "metadata": {},
     "output_type": "execute_result"
    }
   ],
   "source": [
    "z"
   ]
  },
  {
   "cell_type": "markdown",
   "id": "ead4039d",
   "metadata": {},
   "source": [
    "#### Functions"
   ]
  },
  {
   "cell_type": "code",
   "execution_count": 78,
   "id": "645a240b",
   "metadata": {},
   "outputs": [
    {
     "data": {
      "text/plain": [
       "7"
      ]
     },
     "execution_count": 78,
     "metadata": {},
     "output_type": "execute_result"
    }
   ],
   "source": [
    "len(num)"
   ]
  },
  {
   "cell_type": "code",
   "execution_count": 79,
   "id": "ccc36ca1",
   "metadata": {},
   "outputs": [
    {
     "data": {
      "text/plain": [
       "5"
      ]
     },
     "execution_count": 79,
     "metadata": {},
     "output_type": "execute_result"
    }
   ],
   "source": [
    "len(mydata)"
   ]
  },
  {
   "cell_type": "code",
   "execution_count": 80,
   "id": "b3840e2f",
   "metadata": {},
   "outputs": [
    {
     "data": {
      "text/plain": [
       "12"
      ]
     },
     "execution_count": 80,
     "metadata": {},
     "output_type": "execute_result"
    }
   ],
   "source": [
    "min(num)"
   ]
  },
  {
   "cell_type": "code",
   "execution_count": 81,
   "id": "52c4e0f2",
   "metadata": {},
   "outputs": [
    {
     "data": {
      "text/plain": [
       "74"
      ]
     },
     "execution_count": 81,
     "metadata": {},
     "output_type": "execute_result"
    }
   ],
   "source": [
    "max(num)"
   ]
  },
  {
   "cell_type": "code",
   "execution_count": 82,
   "id": "8b6c2c1e",
   "metadata": {},
   "outputs": [
    {
     "data": {
      "text/plain": [
       "263"
      ]
     },
     "execution_count": 82,
     "metadata": {},
     "output_type": "execute_result"
    }
   ],
   "source": [
    "sum(num)"
   ]
  },
  {
   "cell_type": "code",
   "execution_count": 83,
   "id": "f2738478",
   "metadata": {},
   "outputs": [
    {
     "data": {
      "text/plain": [
       "[12, 16, 25, 29, 40, 67, 74]"
      ]
     },
     "execution_count": 83,
     "metadata": {},
     "output_type": "execute_result"
    }
   ],
   "source": [
    "sorted(num)"
   ]
  },
  {
   "cell_type": "code",
   "execution_count": 84,
   "id": "e50d0b29",
   "metadata": {},
   "outputs": [],
   "source": [
    "name = 'Tushar'"
   ]
  },
  {
   "cell_type": "code",
   "execution_count": 85,
   "id": "f4fe93b6",
   "metadata": {},
   "outputs": [
    {
     "data": {
      "text/plain": [
       "['T', 'u', 's', 'h', 'a', 'r']"
      ]
     },
     "execution_count": 85,
     "metadata": {},
     "output_type": "execute_result"
    }
   ],
   "source": [
    "list(name)"
   ]
  },
  {
   "cell_type": "markdown",
   "id": "2b06bce2",
   "metadata": {},
   "source": [
    "#### Methods"
   ]
  },
  {
   "cell_type": "code",
   "execution_count": 87,
   "id": "f13eafea",
   "metadata": {},
   "outputs": [
    {
     "data": {
      "text/plain": [
       "[12, 67, 29, 74, 16, 40, 25]"
      ]
     },
     "execution_count": 87,
     "metadata": {},
     "output_type": "execute_result"
    }
   ],
   "source": [
    "# append a data to list\n",
    "num"
   ]
  },
  {
   "cell_type": "code",
   "execution_count": 88,
   "id": "fddfe233",
   "metadata": {},
   "outputs": [],
   "source": [
    "num.append(56)"
   ]
  },
  {
   "cell_type": "code",
   "execution_count": 89,
   "id": "f6906f74",
   "metadata": {},
   "outputs": [
    {
     "data": {
      "text/plain": [
       "[12, 67, 29, 74, 16, 40, 25, 56]"
      ]
     },
     "execution_count": 89,
     "metadata": {},
     "output_type": "execute_result"
    }
   ],
   "source": [
    "num"
   ]
  },
  {
   "cell_type": "code",
   "execution_count": 90,
   "id": "04613391",
   "metadata": {},
   "outputs": [],
   "source": [
    "x = [34,67,89]\n",
    "y = [34,67,89]"
   ]
  },
  {
   "cell_type": "code",
   "execution_count": 91,
   "id": "4f42fca0",
   "metadata": {},
   "outputs": [],
   "source": [
    "x.append([23,45])\n",
    "y.extend([23,45])"
   ]
  },
  {
   "cell_type": "code",
   "execution_count": 92,
   "id": "60cedc03",
   "metadata": {},
   "outputs": [
    {
     "data": {
      "text/plain": [
       "[34, 67, 89, [23, 45]]"
      ]
     },
     "execution_count": 92,
     "metadata": {},
     "output_type": "execute_result"
    }
   ],
   "source": [
    "x"
   ]
  },
  {
   "cell_type": "code",
   "execution_count": 93,
   "id": "d6ce756a",
   "metadata": {},
   "outputs": [
    {
     "data": {
      "text/plain": [
       "[34, 67, 89, 23, 45]"
      ]
     },
     "execution_count": 93,
     "metadata": {},
     "output_type": "execute_result"
    }
   ],
   "source": [
    "y"
   ]
  },
  {
   "cell_type": "code",
   "execution_count": 94,
   "id": "bed942e2",
   "metadata": {},
   "outputs": [
    {
     "data": {
      "text/plain": [
       "[23, 45]"
      ]
     },
     "execution_count": 94,
     "metadata": {},
     "output_type": "execute_result"
    }
   ],
   "source": [
    "x[3]"
   ]
  },
  {
   "cell_type": "code",
   "execution_count": 95,
   "id": "8687ca5a",
   "metadata": {},
   "outputs": [
    {
     "data": {
      "text/plain": [
       "45"
      ]
     },
     "execution_count": 95,
     "metadata": {},
     "output_type": "execute_result"
    }
   ],
   "source": [
    "x[3][1]"
   ]
  },
  {
   "cell_type": "code",
   "execution_count": 96,
   "id": "b71f7b24",
   "metadata": {},
   "outputs": [
    {
     "data": {
      "text/plain": [
       "[12, 67, 29, 74, 16, 40, 25, 56]"
      ]
     },
     "execution_count": 96,
     "metadata": {},
     "output_type": "execute_result"
    }
   ],
   "source": [
    "# Insert the data\n",
    "num"
   ]
  },
  {
   "cell_type": "code",
   "execution_count": 97,
   "id": "6488022b",
   "metadata": {},
   "outputs": [],
   "source": [
    "num.insert(3, 37)"
   ]
  },
  {
   "cell_type": "code",
   "execution_count": 98,
   "id": "e4229d42",
   "metadata": {},
   "outputs": [
    {
     "data": {
      "text/plain": [
       "[12, 67, 29, 37, 74, 16, 40, 25, 56]"
      ]
     },
     "execution_count": 98,
     "metadata": {},
     "output_type": "execute_result"
    }
   ],
   "source": [
    "num"
   ]
  },
  {
   "cell_type": "code",
   "execution_count": 99,
   "id": "e65120c9",
   "metadata": {},
   "outputs": [
    {
     "data": {
      "text/plain": [
       "[12, 67, 29, 74, 16, 40, 25, 56]"
      ]
     },
     "execution_count": 99,
     "metadata": {},
     "output_type": "execute_result"
    }
   ],
   "source": [
    "# Remove the data\n",
    "num.remove(37)\n",
    "num"
   ]
  },
  {
   "cell_type": "code",
   "execution_count": 100,
   "id": "9df008b5",
   "metadata": {},
   "outputs": [
    {
     "data": {
      "text/plain": [
       "5"
      ]
     },
     "execution_count": 100,
     "metadata": {},
     "output_type": "execute_result"
    }
   ],
   "source": [
    "# Find index of a value\n",
    "num.index(40)"
   ]
  },
  {
   "cell_type": "code",
   "execution_count": 101,
   "id": "64780d9d",
   "metadata": {},
   "outputs": [
    {
     "data": {
      "text/plain": [
       "1"
      ]
     },
     "execution_count": 101,
     "metadata": {},
     "output_type": "execute_result"
    }
   ],
   "source": [
    "# Count total number of existences\n",
    "num.count(29)"
   ]
  },
  {
   "cell_type": "code",
   "execution_count": 102,
   "id": "49d7d36a",
   "metadata": {},
   "outputs": [],
   "source": [
    "# pop/delete the data\n",
    "x = num.pop(5)"
   ]
  },
  {
   "cell_type": "code",
   "execution_count": 103,
   "id": "e64b97ff",
   "metadata": {},
   "outputs": [
    {
     "data": {
      "text/plain": [
       "40"
      ]
     },
     "execution_count": 103,
     "metadata": {},
     "output_type": "execute_result"
    }
   ],
   "source": [
    "x"
   ]
  },
  {
   "cell_type": "code",
   "execution_count": 104,
   "id": "25a22adb",
   "metadata": {},
   "outputs": [
    {
     "data": {
      "text/plain": [
       "[12, 67, 29, 74, 16, 25, 56]"
      ]
     },
     "execution_count": 104,
     "metadata": {},
     "output_type": "execute_result"
    }
   ],
   "source": [
    "num"
   ]
  },
  {
   "cell_type": "code",
   "execution_count": 105,
   "id": "331c418a",
   "metadata": {},
   "outputs": [],
   "source": [
    "# Reverse the list\n",
    "num.reverse()"
   ]
  },
  {
   "cell_type": "code",
   "execution_count": 106,
   "id": "b4101d46",
   "metadata": {},
   "outputs": [
    {
     "data": {
      "text/plain": [
       "[56, 25, 16, 74, 29, 67, 12]"
      ]
     },
     "execution_count": 106,
     "metadata": {},
     "output_type": "execute_result"
    }
   ],
   "source": [
    "num"
   ]
  },
  {
   "cell_type": "code",
   "execution_count": 107,
   "id": "cf4d6b9a",
   "metadata": {},
   "outputs": [],
   "source": [
    "# Sort the list\n",
    "num.sort()"
   ]
  },
  {
   "cell_type": "code",
   "execution_count": 108,
   "id": "e54f33cf",
   "metadata": {},
   "outputs": [
    {
     "data": {
      "text/plain": [
       "[12, 16, 25, 29, 56, 67, 74]"
      ]
     },
     "execution_count": 108,
     "metadata": {},
     "output_type": "execute_result"
    }
   ],
   "source": [
    "num"
   ]
  },
  {
   "cell_type": "code",
   "execution_count": 111,
   "id": "9e839483",
   "metadata": {},
   "outputs": [
    {
     "data": {
      "text/plain": [
       "[74, 67, 56, 29, 25, 16, 12]"
      ]
     },
     "execution_count": 111,
     "metadata": {},
     "output_type": "execute_result"
    }
   ],
   "source": [
    "num.sort(reverse=True)\n",
    "num"
   ]
  },
  {
   "cell_type": "code",
   "execution_count": 112,
   "id": "1ba37e65",
   "metadata": {},
   "outputs": [],
   "source": [
    "# Clear the list\n",
    "num.clear()"
   ]
  },
  {
   "cell_type": "code",
   "execution_count": 113,
   "id": "78df7c00",
   "metadata": {},
   "outputs": [
    {
     "data": {
      "text/plain": [
       "[]"
      ]
     },
     "execution_count": 113,
     "metadata": {},
     "output_type": "execute_result"
    }
   ],
   "source": [
    "num"
   ]
  },
  {
   "cell_type": "markdown",
   "id": "43c6b90b",
   "metadata": {},
   "source": [
    "#### Initialize the list from user input"
   ]
  },
  {
   "cell_type": "code",
   "execution_count": 116,
   "id": "8e9c189a",
   "metadata": {},
   "outputs": [
    {
     "name": "stdout",
     "output_type": "stream",
     "text": [
      "How many elements? 5\n",
      "Enter the element: 67\n",
      "Enter the element: 54\n",
      "Enter the element: 27\n",
      "Enter the element: 84\n",
      "Enter the element: 19\n",
      "Your list is: [67, 54, 27, 84, 19]\n"
     ]
    }
   ],
   "source": [
    "arr = []\n",
    "count = int(input('How many elements? '))\n",
    "for i in range(count):\n",
    "    num = int(input('Enter the element: '))\n",
    "    arr.append(num)   # arr += [num]\n",
    "    \n",
    "print('Your list is:', arr)"
   ]
  },
  {
   "cell_type": "code",
   "execution_count": null,
   "id": "d90394fd",
   "metadata": {},
   "outputs": [],
   "source": [
    "'''This is a list of some metallic elements.\n",
    "metals = [ 'silver','gold', ... ]\n",
    "Make a new list that is almost identical to the metals list: the new \n",
    "contains the same items, in the same order, except that it does NOT \n",
    "contain the item 'copper'.'''"
   ]
  },
  {
   "cell_type": "code",
   "execution_count": 117,
   "id": "982a7ff3",
   "metadata": {},
   "outputs": [],
   "source": [
    "metals = ['silver','copper','gold','silver',\n",
    "'aluminium','copper','gold','silver']"
   ]
  },
  {
   "cell_type": "code",
   "execution_count": 118,
   "id": "081adad5",
   "metadata": {},
   "outputs": [
    {
     "name": "stdout",
     "output_type": "stream",
     "text": [
      "['silver', 'gold', 'silver', 'aluminium', 'gold', 'silver']\n"
     ]
    }
   ],
   "source": [
    "new_metals = []\n",
    "for metal in metals:\n",
    "    if metal != 'copper':\n",
    "        new_metals.append(metal)\n",
    "\n",
    "print(new_metals)"
   ]
  },
  {
   "cell_type": "code",
   "execution_count": 119,
   "id": "83a4462e",
   "metadata": {},
   "outputs": [],
   "source": [
    "# Sort only higher order list\n",
    "num = [5, 6, 2, 8, 9, 1, 3, 7, 4, 0]"
   ]
  },
  {
   "cell_type": "code",
   "execution_count": 120,
   "id": "abb6f3f5",
   "metadata": {},
   "outputs": [],
   "source": [
    "x = num[:5]\n",
    "y = num[5:]"
   ]
  },
  {
   "cell_type": "code",
   "execution_count": 121,
   "id": "712f148f",
   "metadata": {},
   "outputs": [],
   "source": [
    "y.sort()"
   ]
  },
  {
   "cell_type": "code",
   "execution_count": 122,
   "id": "43d60fc1",
   "metadata": {},
   "outputs": [
    {
     "data": {
      "text/plain": [
       "[5, 6, 2, 8, 9, 0, 1, 3, 4, 7]"
      ]
     },
     "execution_count": 122,
     "metadata": {},
     "output_type": "execute_result"
    }
   ],
   "source": [
    "num = x + y\n",
    "num"
   ]
  },
  {
   "cell_type": "markdown",
   "id": "d3868037",
   "metadata": {},
   "source": [
    "### Tuple "
   ]
  },
  {
   "cell_type": "code",
   "execution_count": 124,
   "id": "98982376",
   "metadata": {},
   "outputs": [],
   "source": [
    "num = (67,23,11,45,67,89,24,38)"
   ]
  },
  {
   "cell_type": "code",
   "execution_count": 125,
   "id": "bab908d6",
   "metadata": {},
   "outputs": [
    {
     "data": {
      "text/plain": [
       "tuple"
      ]
     },
     "execution_count": 125,
     "metadata": {},
     "output_type": "execute_result"
    }
   ],
   "source": [
    "type(num)"
   ]
  },
  {
   "cell_type": "code",
   "execution_count": 126,
   "id": "d2fe4329",
   "metadata": {},
   "outputs": [
    {
     "data": {
      "text/plain": [
       "38"
      ]
     },
     "execution_count": 126,
     "metadata": {},
     "output_type": "execute_result"
    }
   ],
   "source": [
    "num[7]"
   ]
  },
  {
   "cell_type": "code",
   "execution_count": 127,
   "id": "1dcd21d2",
   "metadata": {},
   "outputs": [
    {
     "data": {
      "text/plain": [
       "89"
      ]
     },
     "execution_count": 127,
     "metadata": {},
     "output_type": "execute_result"
    }
   ],
   "source": [
    "num[-3]"
   ]
  },
  {
   "cell_type": "code",
   "execution_count": 128,
   "id": "11b14c23",
   "metadata": {},
   "outputs": [
    {
     "data": {
      "text/plain": [
       "(11, 45, 67, 89)"
      ]
     },
     "execution_count": 128,
     "metadata": {},
     "output_type": "execute_result"
    }
   ],
   "source": [
    "num[2:6]"
   ]
  },
  {
   "cell_type": "code",
   "execution_count": 129,
   "id": "68773702",
   "metadata": {},
   "outputs": [
    {
     "name": "stdout",
     "output_type": "stream",
     "text": [
      "67 23 11 45 67 89 24 38 "
     ]
    }
   ],
   "source": [
    "for i in num:\n",
    "    print(i, end=' ')"
   ]
  },
  {
   "cell_type": "code",
   "execution_count": 130,
   "id": "c32e90c9",
   "metadata": {},
   "outputs": [
    {
     "data": {
      "text/plain": [
       "True"
      ]
     },
     "execution_count": 130,
     "metadata": {},
     "output_type": "execute_result"
    }
   ],
   "source": [
    "45 in num"
   ]
  },
  {
   "cell_type": "code",
   "execution_count": 131,
   "id": "2956652a",
   "metadata": {},
   "outputs": [
    {
     "data": {
      "text/plain": [
       "True"
      ]
     },
     "execution_count": 131,
     "metadata": {},
     "output_type": "execute_result"
    }
   ],
   "source": [
    "78 not in num"
   ]
  },
  {
   "cell_type": "code",
   "execution_count": 132,
   "id": "f01a3cb7",
   "metadata": {},
   "outputs": [
    {
     "data": {
      "text/plain": [
       "8"
      ]
     },
     "execution_count": 132,
     "metadata": {},
     "output_type": "execute_result"
    }
   ],
   "source": [
    "len(num)"
   ]
  },
  {
   "cell_type": "code",
   "execution_count": 133,
   "id": "fb58fdeb",
   "metadata": {},
   "outputs": [
    {
     "data": {
      "text/plain": [
       "89"
      ]
     },
     "execution_count": 133,
     "metadata": {},
     "output_type": "execute_result"
    }
   ],
   "source": [
    "max(num)"
   ]
  },
  {
   "cell_type": "code",
   "execution_count": 134,
   "id": "289a3afc",
   "metadata": {},
   "outputs": [
    {
     "data": {
      "text/plain": [
       "'Tushar'"
      ]
     },
     "execution_count": 134,
     "metadata": {},
     "output_type": "execute_result"
    }
   ],
   "source": [
    "name"
   ]
  },
  {
   "cell_type": "code",
   "execution_count": 135,
   "id": "ae617f9a",
   "metadata": {},
   "outputs": [
    {
     "data": {
      "text/plain": [
       "('T', 'u', 's', 'h', 'a', 'r')"
      ]
     },
     "execution_count": 135,
     "metadata": {},
     "output_type": "execute_result"
    }
   ],
   "source": [
    "tuple(name)"
   ]
  },
  {
   "cell_type": "code",
   "execution_count": 137,
   "id": "8cdb0c50",
   "metadata": {},
   "outputs": [
    {
     "ename": "TypeError",
     "evalue": "'tuple' object does not support item assignment",
     "output_type": "error",
     "traceback": [
      "\u001b[0;31m---------------------------------------------------------------------------\u001b[0m",
      "\u001b[0;31mTypeError\u001b[0m                                 Traceback (most recent call last)",
      "\u001b[0;32m<ipython-input-137-356c4d5fee6c>\u001b[0m in \u001b[0;36m<module>\u001b[0;34m\u001b[0m\n\u001b[0;32m----> 1\u001b[0;31m \u001b[0mnum\u001b[0m\u001b[0;34m[\u001b[0m\u001b[0;36m7\u001b[0m\u001b[0;34m]\u001b[0m \u001b[0;34m=\u001b[0m \u001b[0;36m78\u001b[0m\u001b[0;34m\u001b[0m\u001b[0;34m\u001b[0m\u001b[0m\n\u001b[0m",
      "\u001b[0;31mTypeError\u001b[0m: 'tuple' object does not support item assignment"
     ]
    }
   ],
   "source": [
    "num[7] = 78"
   ]
  },
  {
   "cell_type": "code",
   "execution_count": 138,
   "id": "83500bf3",
   "metadata": {},
   "outputs": [
    {
     "ename": "TypeError",
     "evalue": "'tuple' object doesn't support item deletion",
     "output_type": "error",
     "traceback": [
      "\u001b[0;31m---------------------------------------------------------------------------\u001b[0m",
      "\u001b[0;31mTypeError\u001b[0m                                 Traceback (most recent call last)",
      "\u001b[0;32m<ipython-input-138-c18ee63abbd2>\u001b[0m in \u001b[0;36m<module>\u001b[0;34m\u001b[0m\n\u001b[0;32m----> 1\u001b[0;31m \u001b[0;32mdel\u001b[0m \u001b[0mnum\u001b[0m\u001b[0;34m[\u001b[0m\u001b[0;36m4\u001b[0m\u001b[0;34m]\u001b[0m\u001b[0;34m\u001b[0m\u001b[0;34m\u001b[0m\u001b[0m\n\u001b[0m",
      "\u001b[0;31mTypeError\u001b[0m: 'tuple' object doesn't support item deletion"
     ]
    }
   ],
   "source": [
    "del num[4]"
   ]
  },
  {
   "cell_type": "code",
   "execution_count": 139,
   "id": "68ff32c3",
   "metadata": {},
   "outputs": [
    {
     "data": {
      "text/plain": [
       "(56, 33, 12, 6, 77, 8)"
      ]
     },
     "execution_count": 139,
     "metadata": {},
     "output_type": "execute_result"
    }
   ],
   "source": [
    "x = [56,33,12,6,77,8]\n",
    "tuple(x)"
   ]
  },
  {
   "cell_type": "code",
   "execution_count": 140,
   "id": "2246b4c8",
   "metadata": {},
   "outputs": [
    {
     "data": {
      "text/plain": [
       "[56, 33, 12, 6, 77, 8]"
      ]
     },
     "execution_count": 140,
     "metadata": {},
     "output_type": "execute_result"
    }
   ],
   "source": [
    "y = (56,33,12,6,77,8)\n",
    "list(y)"
   ]
  },
  {
   "cell_type": "code",
   "execution_count": 141,
   "id": "6054b301",
   "metadata": {},
   "outputs": [
    {
     "data": {
      "text/plain": [
       "1"
      ]
     },
     "execution_count": 141,
     "metadata": {},
     "output_type": "execute_result"
    }
   ],
   "source": [
    "y.count(6)"
   ]
  },
  {
   "cell_type": "code",
   "execution_count": 142,
   "id": "5b9984f8",
   "metadata": {},
   "outputs": [
    {
     "data": {
      "text/plain": [
       "1"
      ]
     },
     "execution_count": 142,
     "metadata": {},
     "output_type": "execute_result"
    }
   ],
   "source": [
    "num.count(23)"
   ]
  },
  {
   "cell_type": "code",
   "execution_count": 144,
   "id": "c7498463",
   "metadata": {},
   "outputs": [
    {
     "data": {
      "text/plain": [
       "3"
      ]
     },
     "execution_count": 144,
     "metadata": {},
     "output_type": "execute_result"
    }
   ],
   "source": [
    "num.index(45)"
   ]
  },
  {
   "cell_type": "markdown",
   "id": "2e358e4c",
   "metadata": {},
   "source": [
    "### Set"
   ]
  },
  {
   "cell_type": "code",
   "execution_count": 146,
   "id": "47f29a1b",
   "metadata": {},
   "outputs": [],
   "source": [
    "# Collection of unique and distinct elements"
   ]
  },
  {
   "cell_type": "code",
   "execution_count": 147,
   "id": "bd6d3704",
   "metadata": {},
   "outputs": [],
   "source": [
    "s = {6,3,4,4,5,7,8,6,5,4,4,1}"
   ]
  },
  {
   "cell_type": "code",
   "execution_count": 148,
   "id": "cfcf84b1",
   "metadata": {},
   "outputs": [
    {
     "data": {
      "text/plain": [
       "{1, 3, 4, 5, 6, 7, 8}"
      ]
     },
     "execution_count": 148,
     "metadata": {},
     "output_type": "execute_result"
    }
   ],
   "source": [
    "s"
   ]
  },
  {
   "cell_type": "code",
   "execution_count": 149,
   "id": "57f4768e",
   "metadata": {},
   "outputs": [],
   "source": [
    "gender = {'M','M','F','M','F','F','M'}"
   ]
  },
  {
   "cell_type": "code",
   "execution_count": 150,
   "id": "62a4ef71",
   "metadata": {},
   "outputs": [
    {
     "data": {
      "text/plain": [
       "{'F', 'M'}"
      ]
     },
     "execution_count": 150,
     "metadata": {},
     "output_type": "execute_result"
    }
   ],
   "source": [
    "gender"
   ]
  },
  {
   "cell_type": "code",
   "execution_count": 151,
   "id": "130e3616",
   "metadata": {},
   "outputs": [
    {
     "ename": "TypeError",
     "evalue": "'set' object is not subscriptable",
     "output_type": "error",
     "traceback": [
      "\u001b[0;31m---------------------------------------------------------------------------\u001b[0m",
      "\u001b[0;31mTypeError\u001b[0m                                 Traceback (most recent call last)",
      "\u001b[0;32m<ipython-input-151-354d6d7fa2e4>\u001b[0m in \u001b[0;36m<module>\u001b[0;34m\u001b[0m\n\u001b[0;32m----> 1\u001b[0;31m \u001b[0ms\u001b[0m\u001b[0;34m[\u001b[0m\u001b[0;36m3\u001b[0m\u001b[0;34m]\u001b[0m\u001b[0;34m\u001b[0m\u001b[0;34m\u001b[0m\u001b[0m\n\u001b[0m",
      "\u001b[0;31mTypeError\u001b[0m: 'set' object is not subscriptable"
     ]
    }
   ],
   "source": [
    "s[3]"
   ]
  },
  {
   "cell_type": "code",
   "execution_count": 152,
   "id": "b89704b7",
   "metadata": {},
   "outputs": [],
   "source": [
    "s.add(7)"
   ]
  },
  {
   "cell_type": "code",
   "execution_count": 153,
   "id": "079a0cc3",
   "metadata": {},
   "outputs": [
    {
     "data": {
      "text/plain": [
       "{1, 3, 4, 5, 6, 7, 8}"
      ]
     },
     "execution_count": 153,
     "metadata": {},
     "output_type": "execute_result"
    }
   ],
   "source": [
    "s"
   ]
  },
  {
   "cell_type": "code",
   "execution_count": 154,
   "id": "2999f29b",
   "metadata": {},
   "outputs": [
    {
     "data": {
      "text/plain": [
       "{1, 3, 4, 5, 6, 7, 8, 10}"
      ]
     },
     "execution_count": 154,
     "metadata": {},
     "output_type": "execute_result"
    }
   ],
   "source": [
    "s.add(10)\n",
    "s"
   ]
  },
  {
   "cell_type": "code",
   "execution_count": 155,
   "id": "0548588a",
   "metadata": {},
   "outputs": [
    {
     "data": {
      "text/plain": [
       "[1, 3, 4, 5, 6, 7, 8, 10]"
      ]
     },
     "execution_count": 155,
     "metadata": {},
     "output_type": "execute_result"
    }
   ],
   "source": [
    "list(s)"
   ]
  },
  {
   "cell_type": "markdown",
   "id": "56b17995",
   "metadata": {},
   "source": [
    "### Dictionary"
   ]
  },
  {
   "cell_type": "code",
   "execution_count": 157,
   "id": "f56b16c4",
   "metadata": {},
   "outputs": [],
   "source": [
    "d = {2:45, 5:178, 6: 53, 10: 244, 13: 773}"
   ]
  },
  {
   "cell_type": "code",
   "execution_count": 158,
   "id": "5b3b9500",
   "metadata": {},
   "outputs": [
    {
     "data": {
      "text/plain": [
       "{2: 45, 5: 178, 6: 53, 10: 244, 13: 773}"
      ]
     },
     "execution_count": 158,
     "metadata": {},
     "output_type": "execute_result"
    }
   ],
   "source": [
    "d"
   ]
  },
  {
   "cell_type": "code",
   "execution_count": 159,
   "id": "b6c76120",
   "metadata": {},
   "outputs": [
    {
     "data": {
      "text/plain": [
       "dict"
      ]
     },
     "execution_count": 159,
     "metadata": {},
     "output_type": "execute_result"
    }
   ],
   "source": [
    "type(d)"
   ]
  },
  {
   "cell_type": "code",
   "execution_count": 160,
   "id": "e7f9dbe4",
   "metadata": {},
   "outputs": [
    {
     "data": {
      "text/plain": [
       "178"
      ]
     },
     "execution_count": 160,
     "metadata": {},
     "output_type": "execute_result"
    }
   ],
   "source": [
    "d[5]"
   ]
  },
  {
   "cell_type": "code",
   "execution_count": 161,
   "id": "e50b5e5f",
   "metadata": {},
   "outputs": [
    {
     "ename": "KeyError",
     "evalue": "7",
     "output_type": "error",
     "traceback": [
      "\u001b[0;31m---------------------------------------------------------------------------\u001b[0m",
      "\u001b[0;31mKeyError\u001b[0m                                  Traceback (most recent call last)",
      "\u001b[0;32m<ipython-input-161-e441a92023c3>\u001b[0m in \u001b[0;36m<module>\u001b[0;34m\u001b[0m\n\u001b[0;32m----> 1\u001b[0;31m \u001b[0md\u001b[0m\u001b[0;34m[\u001b[0m\u001b[0;36m7\u001b[0m\u001b[0;34m]\u001b[0m\u001b[0;34m\u001b[0m\u001b[0;34m\u001b[0m\u001b[0m\n\u001b[0m",
      "\u001b[0;31mKeyError\u001b[0m: 7"
     ]
    }
   ],
   "source": [
    "d[7]"
   ]
  },
  {
   "cell_type": "code",
   "execution_count": 162,
   "id": "17d4fa3f",
   "metadata": {},
   "outputs": [
    {
     "data": {
      "text/plain": [
       "{2: 45, 5: 178, 6: 53, 10: 244, 13: 773, 7: 'Hello'}"
      ]
     },
     "execution_count": 162,
     "metadata": {},
     "output_type": "execute_result"
    }
   ],
   "source": [
    "d[7] = 'Hello'\n",
    "d"
   ]
  },
  {
   "cell_type": "code",
   "execution_count": 163,
   "id": "10d916ab",
   "metadata": {},
   "outputs": [
    {
     "data": {
      "text/plain": [
       "{2: 45, 5: 200, 6: 53, 10: 244, 13: 773, 7: 'Hello'}"
      ]
     },
     "execution_count": 163,
     "metadata": {},
     "output_type": "execute_result"
    }
   ],
   "source": [
    "d[5] = 200\n",
    "d"
   ]
  },
  {
   "cell_type": "code",
   "execution_count": 165,
   "id": "68a4f45f",
   "metadata": {},
   "outputs": [
    {
     "name": "stdout",
     "output_type": "stream",
     "text": [
      "2 5 6 10 13 7 "
     ]
    }
   ],
   "source": [
    "for i in d:\n",
    "    print(i, end = ' ')"
   ]
  },
  {
   "cell_type": "code",
   "execution_count": 166,
   "id": "bd806f75",
   "metadata": {},
   "outputs": [
    {
     "name": "stdout",
     "output_type": "stream",
     "text": [
      "45 200 53 244 773 Hello "
     ]
    }
   ],
   "source": [
    "for i in d:\n",
    "    print(d[i], end = ' ')"
   ]
  },
  {
   "cell_type": "code",
   "execution_count": null,
   "id": "1302a8ba",
   "metadata": {},
   "outputs": [],
   "source": []
  }
 ],
 "metadata": {
  "kernelspec": {
   "display_name": "Python 3",
   "language": "python",
   "name": "python3"
  },
  "language_info": {
   "codemirror_mode": {
    "name": "ipython",
    "version": 3
   },
   "file_extension": ".py",
   "mimetype": "text/x-python",
   "name": "python",
   "nbconvert_exporter": "python",
   "pygments_lexer": "ipython3",
   "version": "3.8.10"
  }
 },
 "nbformat": 4,
 "nbformat_minor": 5
}
