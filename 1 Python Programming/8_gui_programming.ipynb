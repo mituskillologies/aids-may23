{
 "cells": [
  {
   "cell_type": "code",
   "execution_count": 2,
   "metadata": {},
   "outputs": [],
   "source": [
    "import tkinter as tk"
   ]
  },
  {
   "cell_type": "code",
   "execution_count": 20,
   "metadata": {},
   "outputs": [],
   "source": [
    "top = tk.Tk()\n",
    "top.title('My application')\n",
    "top.geometry('500x300')            # width x height\n",
    "\n",
    "data = tk.IntVar()                 # integer variable\n",
    "\n",
    "def show():\n",
    "    num = data.get()\n",
    "    sq = num * num\n",
    "    result = tk.Label(top, text=\"Square is:%i\" %sq).place(x=50, y=200)\n",
    "\n",
    "l = tk.Label(top, text=\"Input: \").place(x=20, y=100)\n",
    "e = tk.Entry(top, textvariable = data).place(x=100,y=100)\n",
    "b = tk.Button(top, text =\"Submit\", command=show).place(x=50, y=150)  \n",
    "\n",
    "top.mainloop()"
   ]
  },
  {
   "cell_type": "code",
   "execution_count": 24,
   "metadata": {},
   "outputs": [],
   "source": [
    "# Read two numbers and find addition\n",
    "top = tk.Tk()\n",
    "top.title('My application')\n",
    "top.geometry('500x300')            # width x height\n",
    "\n",
    "n1 = tk.IntVar()                 # integer variable\n",
    "n2 = tk.IntVar()\n",
    "\n",
    "def show():\n",
    "    add = n1.get() + n2.get()\n",
    "    #tk.Label(top, text=\"Addition:%i\" %add).place(x=50, y=200)\n",
    "    from tkinter import messagebox\n",
    "    messagebox.showinfo(\"Result\", \"Addition:%i\" %add) \n",
    "\n",
    "tk.Label(top, text=\"Input: \").place(x=20, y=100)\n",
    "tk.Entry(top, textvariable = n1).place(x=100,y=100)\n",
    "tk.Entry(top, textvariable = n2).place(x=200,y=100)\n",
    "tk.Button(top, text =\"Submit\", command=show).place(x=50, y=150)  \n",
    "\n",
    "top.mainloop()"
   ]
  },
  {
   "cell_type": "code",
   "execution_count": 23,
   "metadata": {},
   "outputs": [],
   "source": []
  },
  {
   "cell_type": "code",
   "execution_count": null,
   "metadata": {},
   "outputs": [],
   "source": []
  }
 ],
 "metadata": {
  "kernelspec": {
   "display_name": "Python 3",
   "language": "python",
   "name": "python3"
  },
  "language_info": {
   "codemirror_mode": {
    "name": "ipython",
    "version": 3
   },
   "file_extension": ".py",
   "mimetype": "text/x-python",
   "name": "python",
   "nbconvert_exporter": "python",
   "pygments_lexer": "ipython3",
   "version": "3.8.10"
  }
 },
 "nbformat": 4,
 "nbformat_minor": 4
}
